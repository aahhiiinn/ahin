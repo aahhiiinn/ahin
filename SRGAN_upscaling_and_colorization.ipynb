{
  "nbformat": 4,
  "nbformat_minor": 0,
  "metadata": {
    "colab": {
      "provenance": [],
      "gpuType": "T4",
      "include_colab_link": true
    },
    "kernelspec": {
      "name": "python3",
      "display_name": "Python 3"
    },
    "language_info": {
      "name": "python"
    },
    "accelerator": "GPU"
  },
  "cells": [
    {
      "cell_type": "markdown",
      "metadata": {
        "id": "view-in-github",
        "colab_type": "text"
      },
      "source": [
        "<a href=\"https://colab.research.google.com/github/aahhiiinn/ahin/blob/main/SRGAN_upscaling_and_colorization.ipynb\" target=\"_parent\"><img src=\"https://colab.research.google.com/assets/colab-badge.svg\" alt=\"Open In Colab\"/></a>"
      ]
    },
    {
      "cell_type": "code",
      "source": [
        "#!wget http://host.robots.ox.ac.uk/pascal/VOC/voc2012/VOCtrainval_11-May-2012.tar\n",
        "#!tar -xvf /content/VOCtrainval_11-May-2012.tar"
      ],
      "metadata": {
        "id": "wI6_Ae7YaCw2"
      },
      "execution_count": null,
      "outputs": []
    },
    {
      "cell_type": "code",
      "source": [
        "!gdown https://drive.google.com/uc?id=1xgk7svdjBiEyzyUVoZrCz4PP6dSjVL8S"
      ],
      "metadata": {
        "colab": {
          "base_uri": "https://localhost:8080/"
        },
        "id": "fttzNhVg2M07",
        "outputId": "b1e462b6-8e4a-4818-d98f-e8ab4ff3d895"
      },
      "execution_count": null,
      "outputs": [
        {
          "output_type": "stream",
          "name": "stdout",
          "text": [
            "Downloading...\n",
            "From: https://drive.google.com/uc?id=1xgk7svdjBiEyzyUVoZrCz4PP6dSjVL8S\n",
            "To: /content/pascal_20_detection.zip\n",
            "100% 1.93G/1.93G [00:23<00:00, 84.0MB/s]\n"
          ]
        }
      ]
    },
    {
      "cell_type": "code",
      "source": [
        "\n",
        "#!wget http://images.cocodataset.org/zips/val2017.zip"
      ],
      "metadata": {
        "id": "1zIfmNVPfBRv"
      },
      "execution_count": null,
      "outputs": []
    },
    {
      "cell_type": "code",
      "source": [
        "!unzip --qq pascal_20_detection.zip"
      ],
      "metadata": {
        "id": "NtkHY1Yz2YES"
      },
      "execution_count": null,
      "outputs": []
    },
    {
      "cell_type": "code",
      "source": [
        "#!unzip -qq /content/val2017.zip"
      ],
      "metadata": {
        "id": "s5SzAyBLgsig"
      },
      "execution_count": null,
      "outputs": []
    },
    {
      "cell_type": "code",
      "source": [
        "'''\n",
        "from google.colab import drive\n",
        "drive.mount('/content/drive')\n",
        "'''"
      ],
      "metadata": {
        "colab": {
          "base_uri": "https://localhost:8080/",
          "height": 36
        },
        "id": "RAecd3JeXoJ6",
        "outputId": "ce95ccac-aef8-42c3-a912-92b8f52f55e5"
      },
      "execution_count": null,
      "outputs": [
        {
          "output_type": "execute_result",
          "data": {
            "text/plain": [
              "\"\\nfrom google.colab import drive\\ndrive.mount('/content/drive')\\n\""
            ],
            "application/vnd.google.colaboratory.intrinsic+json": {
              "type": "string"
            }
          },
          "metadata": {},
          "execution_count": 6
        }
      ]
    },
    {
      "cell_type": "markdown",
      "source": [
        "##Library"
      ],
      "metadata": {
        "id": "tJ7xQ41tw0O9"
      }
    },
    {
      "cell_type": "code",
      "source": [
        "from sklearn.model_selection import train_test_split\n",
        "\n",
        "import os\n",
        "from os import listdir\n",
        "from os.path import join\n",
        "import shutil\n",
        "import random\n",
        "import matplotlib.pyplot as plt\n",
        "import math\n",
        "from math import log10\n",
        "import time\n",
        "\n",
        "from PIL import Image\n",
        "import torch\n",
        "from torch import nn\n",
        "import torch.optim as optim\n",
        "from torchvision.models.vgg import vgg16\n",
        "from torch.utils.data.dataset import Dataset\n",
        "from torch.utils.data import random_split, DataLoader\n",
        "from torchvision.transforms import Compose, RandomCrop, ToTensor, ToPILImage, CenterCrop, Resize, Grayscale\n",
        "\n",
        "import cv2\n",
        "from tqdm import tqdm"
      ],
      "metadata": {
        "id": "hbg1awafw3Gz"
      },
      "execution_count": null,
      "outputs": []
    },
    {
      "cell_type": "markdown",
      "source": [
        "## Parameter"
      ],
      "metadata": {
        "id": "2vwxwLctq94z"
      }
    },
    {
      "cell_type": "code",
      "source": [
        "#crop_size는 4의 배수여야 함.\n",
        "#crop_size 보다 큰 사이즈의 이미지가 있는지 확인해줘야 함.\n",
        "crop_size = 68#96#68 #96\n",
        "\n",
        "upscale_factor = 4\n",
        "epochs = 250\n",
        "batch_size = 64\n",
        "\n",
        "dataset_dir = '/content/pascal_20_detection/imgs'\n",
        "\n",
        "save_path = '/content'\n"
      ],
      "metadata": {
        "id": "hvCczHGDq8iJ"
      },
      "execution_count": null,
      "outputs": []
    },
    {
      "cell_type": "markdown",
      "source": [
        "## 데이터 설정"
      ],
      "metadata": {
        "id": "NL_53oBQyLnH"
      }
    },
    {
      "cell_type": "code",
      "source": [
        "# 데이터셋 디렉토리에서 파일 목록 가져오기\n",
        "all_files = [f for f in os.listdir(dataset_dir) if f.endswith('.jpg')]\n",
        "\n",
        "#crop size 보다 큰거\n",
        "valid_files = [file for file in all_files if file not in ['2008_001823.jpg', '2008_003374.jpg']]\n",
        "\n",
        "# 데이터셋을 training set과 validation set으로 나누기\n",
        "train_files, temp_files = train_test_split(valid_files, test_size=0.2, random_state=42)\n",
        "val_files, test_files = train_test_split(temp_files, test_size=0.5, random_state=42)\n",
        "\n",
        "\n",
        "# 각 세트의 개수 출력\n",
        "print(\"Training set: {}개, Validation set: {}개, Test set: {}개\".format(len(train_files), len(val_files), len(test_files)))\n",
        "\n",
        "# 각 세트의 파일을 저장할 디렉토리 생성\n",
        "train_save_dir = os.path.join(save_path, 'train_dataset')\n",
        "val_save_dir = os.path.join(save_path, 'val_dataset')\n",
        "test_save_dir = os.path.join(save_path, 'test_dataset')\n",
        "\n",
        "# 디렉토리가 존재하지 않으면 생성\n",
        "os.makedirs(train_save_dir, exist_ok=True)\n",
        "os.makedirs(val_save_dir, exist_ok=True)\n",
        "os.makedirs(test_save_dir, exist_ok=True)\n",
        "\n",
        "min_image_size = crop_size  # 예시로 96으로 설정, 실제로 필요한 크기로 수정\n",
        "\n",
        "\n",
        "# 훈련 세트 파일 복사\n",
        "for file in train_files:\n",
        "    src_path = os.path.join(dataset_dir, file)\n",
        "\n",
        "\n",
        "    dest_path = os.path.join(train_save_dir, file)\n",
        "    shutil.copy(src_path, dest_path)\n",
        "\n",
        "# 검증 세트 파일 복사\n",
        "for file in val_files:\n",
        "    src_path = os.path.join(dataset_dir, file)\n",
        "\n",
        "\n",
        "    dest_path = os.path.join(val_save_dir, file)\n",
        "    shutil.copy(src_path, dest_path)\n",
        "\n",
        "# 테스트 세트 파일 복사\n",
        "for file in test_files:\n",
        "    src_path = os.path.join(dataset_dir, file)\n",
        "\n",
        "    dest_path = os.path.join(test_save_dir, file)\n",
        "    shutil.copy(src_path, dest_path)\n",
        "\n",
        "\n"
      ],
      "metadata": {
        "id": "OnqhqkzsyNZO",
        "colab": {
          "base_uri": "https://localhost:8080/"
        },
        "outputId": "ee482845-e059-44ed-e660-ba9d58d5dd09"
      },
      "execution_count": null,
      "outputs": [
        {
          "output_type": "stream",
          "name": "stdout",
          "text": [
            "Training set: 13618개, Validation set: 1702개, Test set: 1703개\n"
          ]
        }
      ]
    },
    {
      "cell_type": "markdown",
      "source": [
        "##Dataset"
      ],
      "metadata": {
        "id": "o1oj58TlaWMV"
      }
    },
    {
      "cell_type": "code",
      "source": [
        "def is_image_file(filename):\n",
        "    return any(filename.endswith(extension) for extension in ['.png', '.jpg', '.jpeg', '.PNG', '.JPG', '.JPEG'])\n",
        "\n",
        "def train_hr_transform(crop_size):\n",
        "    return Compose([\n",
        "        RandomCrop(crop_size),\n",
        "        ToTensor()\n",
        "    ])\n",
        "\n",
        "def train_lr_transform(crop_size, upscale_factor):\n",
        "    return Compose([\n",
        "        ToPILImage(),\n",
        "        Resize(crop_size // upscale_factor, interpolation=Image.BICUBIC),\n",
        "        ToTensor(),\n",
        "        Grayscale(num_output_channels = 3)\n",
        "    ])\n"
      ],
      "metadata": {
        "id": "hOcFIZON0VsG"
      },
      "execution_count": null,
      "outputs": []
    },
    {
      "cell_type": "code",
      "source": [
        "class TrainDataset(Dataset):\n",
        "    def __init__(self, dataset_dir, crop_size, upscale_factor):\n",
        "        super(TrainDataset, self).__init__()\n",
        "        self.image_filenames = [join(dataset_dir, x) for x in listdir(dataset_dir) if is_image_file(x)]\n",
        "        #crop_size = calculate_valid_crop_size(crop_size, upscale_factor)\n",
        "        self.hr_transform = train_hr_transform(crop_size)\n",
        "        self.lr_transform = train_lr_transform(crop_size, upscale_factor)\n",
        "\n",
        "    def __getitem__(self, index):\n",
        "        hr_image = self.hr_transform(Image.open(self.image_filenames[index]))\n",
        "        hr_gray_image = self.hr_transform(Image.open(self.image_filenames[index]).convert('L'))\n",
        "        lr_image = self.lr_transform(hr_image)\n",
        "        return lr_image, hr_image\n",
        "\n",
        "    def __len__(self):\n",
        "        return len(self.image_filenames)\n",
        "\n",
        "\n",
        "class ValDataset(Dataset):\n",
        "    def __init__(self, dataset_dir, crop_size,upscale_factor):\n",
        "        super(ValDataset, self).__init__()\n",
        "        self.upscale_factor = upscale_factor\n",
        "        self.image_filenames = [join(dataset_dir, x) for x in listdir(dataset_dir) if is_image_file(x)]\n",
        "\n",
        "    def __getitem__(self, index):\n",
        "        hr_image = Image.open(self.image_filenames[index])\n",
        "        #w, h = hr_image.size\n",
        "        #crop_size = calculate_valid_crop_size(min(w, h), self.upscale_factor)\n",
        "        lr_scale = Resize(crop_size // self.upscale_factor, interpolation=Image.BICUBIC)\n",
        "        hr_scale = Resize(crop_size, interpolation=Image.BICUBIC)\n",
        "        hr_image = CenterCrop(crop_size)(hr_image)\n",
        "        lr_image = lr_scale(hr_image)\n",
        "        hr_restore_img = hr_scale(lr_image)\n",
        "        return ToTensor()(lr_image), ToTensor()(hr_restore_img), ToTensor()(hr_image)\n",
        "\n",
        "    def __len__(self):\n",
        "        return len(self.image_filenames)\n",
        "\n",
        "\n",
        "class TestDataset(Dataset):\n",
        "    def __init__(self, dataset_dir, upscale_factor):\n",
        "        super(TestDataset, self).__init__()\n",
        "        self.lr_path = dataset_dir + '/SRF_' + str(upscale_factor) + '/data/'\n",
        "        self.hr_path = dataset_dir + '/SRF_' + str(upscale_factor) + '/target/'\n",
        "        self.upscale_factor = upscale_factor\n",
        "        self.lr_filenames = [join(self.lr_path, x) for x in listdir(self.lr_path) if is_image_file(x)]\n",
        "        self.hr_filenames = [join(self.hr_path, x) for x in listdir(self.hr_path) if is_image_file(x)]\n",
        "\n",
        "    def __getitem__(self, index):\n",
        "        image_name = self.lr_filenames[index].split('/')[-1]\n",
        "        lr_image = Image.open(self.lr_filenames[index])\n",
        "        w, h = lr_image.size\n",
        "        hr_image = Image.open(self.hr_filenames[index])\n",
        "        hr_transform =  Compose([Resize(crop_size // upscale_factor, interpolation=Image.BICUBIC),\n",
        "          ToTensor(),\n",
        "          Grayscale(num_output_channels = 3)\n",
        "        ])\n",
        "        hr_scale = Resize((self.upscale_factor * h, self.upscale_factor * w), interpolation=Image.BICUBIC)\n",
        "        hr_restore_img = hr_scale(lr_image)\n",
        "        return image_name, ToTensor()(lr_image), ToTensor()(hr_restore_img), ToTensor()(hr_image)\n",
        "\n",
        "    def __len__(self):\n",
        "        return len(self.lr_filenames)"
      ],
      "metadata": {
        "id": "HmrIsZyCaYKH"
      },
      "execution_count": null,
      "outputs": []
    },
    {
      "cell_type": "code",
      "source": [
        "train_dataset = TrainDataset(train_save_dir, crop_size, upscale_factor)\n",
        "val_dataset = ValDataset(val_save_dir, crop_size, upscale_factor)\n",
        "\n",
        "lr, hr = train_dataset[4]\n",
        "fig, axes = plt.subplots(1, 2, figsize=(10, 10))\n",
        "\n",
        "print(\"High-Resolution Shape:\", hr.shape)\n",
        "print(\"Low-Resolution Shape:\", lr.shape)\n",
        "\n",
        "\n",
        "print(\"Train Dataset Size:\", len(train_dataset))\n",
        "print(\"Validation Dataset Size:\", len(val_dataset))\n",
        "\n",
        "axes[0].imshow(hr.permute(1, 2, 0))\n",
        "axes[0].set_title('High-Resolution')\n",
        "\n",
        "axes[1].imshow(lr.permute(1, 2, 0))\n",
        "axes[1].set_title('Low-Resolution')\n",
        "\n",
        "plt.show()\n"
      ],
      "metadata": {
        "id": "7sO3IpSf0t4Y",
        "colab": {
          "base_uri": "https://localhost:8080/",
          "height": 507
        },
        "outputId": "96811573-4066-4349-e93b-bcc2b2b6e2cf"
      },
      "execution_count": null,
      "outputs": [
        {
          "output_type": "stream",
          "name": "stdout",
          "text": [
            "High-Resolution Shape: torch.Size([3, 68, 68])\n",
            "Low-Resolution Shape: torch.Size([3, 17, 17])\n",
            "Train Dataset Size: 13618\n",
            "Validation Dataset Size: 1702\n"
          ]
        },
        {
          "output_type": "display_data",
          "data": {
            "text/plain": [
              "<Figure size 1000x1000 with 2 Axes>"
            ],
            "image/png": "[encoded data removed]"
          },
          "metadata": {}
        }
      ]
    },
    {
      "cell_type": "code",
      "source": [
        "train_dataloader = DataLoader(train_dataset, num_workers =2, batch_size = batch_size, shuffle = True)\n",
        "val_dataloader = DataLoader(val_dataset, num_workers =2, batch_size =1, shuffle=False)"
      ],
      "metadata": {
        "id": "CeswQtSs2X8-"
      },
      "execution_count": null,
      "outputs": []
    },
    {
      "cell_type": "markdown",
      "source": [
        "##Model"
      ],
      "metadata": {
        "id": "0Fers-kDaDvk"
      }
    },
    {
      "cell_type": "markdown",
      "source": [
        "### Loss Function"
      ],
      "metadata": {
        "id": "foyy-R-R22sv"
      }
    },
    {
      "cell_type": "code",
      "source": [
        "class GeneratorLoss(nn.Module):\n",
        "    def __init__(self):\n",
        "        super(GeneratorLoss, self).__init__()\n",
        "        vgg = vgg16(pretrained=True)\n",
        "        loss_network = nn.Sequential(*list(vgg.features)[:30]).eval()\n",
        "\n",
        "        for param in loss_network.parameters():\n",
        "            param.requires_grad = False\n",
        "\n",
        "        self.loss_network = loss_network\n",
        "        self.mse_loss = nn.MSELoss()\n",
        "        self.tv_loss = TVLoss() #자연스러운 이미지 생성 도와줌.\n",
        "\n",
        "    def forward(self, out_labels, out_images, target_images):\n",
        "        # Adversarial Loss\n",
        "        adversarial_loss = torch.mean(1 - out_labels)\n",
        "        # Perception Loss\n",
        "        perception_loss = self.mse_loss(self.loss_network(out_images), self.loss_network(target_images))\n",
        "        # Image Loss\n",
        "        image_loss = self.mse_loss(out_images, target_images)\n",
        "        # TV Loss\n",
        "        tv_loss = self.tv_loss(out_images)\n",
        "        return image_loss + 0.001 * adversarial_loss + 0.006 * perception_loss + 2e-8 * tv_loss\n",
        "\n",
        "\n",
        "class TVLoss(nn.Module):\n",
        "    def __init__(self, tv_loss_weight=1):\n",
        "        super(TVLoss, self).__init__()\n",
        "        self.tv_loss_weight = tv_loss_weight\n",
        "\n",
        "    def forward(self, x):\n",
        "        batch_size = x.size()[0]\n",
        "        h_x = x.size()[2]\n",
        "        w_x = x.size()[3]\n",
        "        count_h = self.tensor_size(x[:, :, 1:, :])\n",
        "        count_w = self.tensor_size(x[:, :, :, 1:])\n",
        "        h_tv = torch.pow((x[:, :, 1:, :] - x[:, :, :h_x - 1, :]), 2).sum()\n",
        "        w_tv = torch.pow((x[:, :, :, 1:] - x[:, :, :, :w_x - 1]), 2).sum()\n",
        "        return self.tv_loss_weight * 2 * (h_tv / count_h + w_tv / count_w) / batch_size\n",
        "\n",
        "    @staticmethod\n",
        "    def tensor_size(t):\n",
        "        return t.size()[1] * t.size()[2] * t.size()[3]\n"
      ],
      "metadata": {
        "id": "s5s_2g2p2zZE"
      },
      "execution_count": null,
      "outputs": []
    },
    {
      "cell_type": "code",
      "source": [
        "\n",
        "class Generator(nn.Module):\n",
        "    def __init__(self, scale_factor):\n",
        "        upsample_block_num = int(math.log(scale_factor, 2))\n",
        "\n",
        "        super(Generator, self).__init__()\n",
        "        self.block1 = nn.Sequential(\n",
        "            nn.Conv2d(3, 64, kernel_size=9, padding=4),\n",
        "            nn.PReLU()\n",
        "        )\n",
        "        self.block2 = ResidualBlock(64)\n",
        "        self.block3 = ResidualBlock(64)\n",
        "        self.block4 = ResidualBlock(64)\n",
        "        self.block5 = ResidualBlock(64)\n",
        "        self.block6 = ResidualBlock(64)\n",
        "        self.block7 = nn.Sequential(\n",
        "            nn.Conv2d(64, 64, kernel_size=3, padding=1),\n",
        "            nn.BatchNorm2d(64)\n",
        "        )\n",
        "        ##upscaling\n",
        "        block8 = [UpsampleBLock(64, 2) for _ in range(upsample_block_num)]\n",
        "        block8.append(nn.Conv2d(64, 3, kernel_size=9, padding=4))\n",
        "        self.block8 = nn.Sequential(*block8)\n",
        "\n",
        "        self.colorblock1 = nn.Sequential(\n",
        "            nn.Conv2d(64, 64, kernel_size=3, padding=1),\n",
        "            nn.ReLU(True),\n",
        "            nn.Conv2d(64, 64, kernel_size=3, padding=1),\n",
        "            nn.ReLU(True),\n",
        "            nn.Conv2d(64, 64, kernel_size=3, padding=1),\n",
        "            nn.ReLU(True),\n",
        "            nn.Softmax(dim=1),\n",
        "            nn.Conv2d(64, 1, kernel_size=1, padding=0, dilation=1, stride=1, bias=False),\n",
        "            nn.Upsample(scale_factor=4, mode='bilinear')\n",
        "        )\n",
        "        self.colorblock2 = nn.Sequential(\n",
        "            nn.Conv2d(64, 64, kernel_size=3, padding=1),\n",
        "            nn.ReLU(True),\n",
        "            nn.Conv2d(64, 64, kernel_size=3, padding=1),\n",
        "            nn.ReLU(True),\n",
        "            nn.Conv2d(64, 64, kernel_size=3, padding=1),\n",
        "            nn.ReLU(True),\n",
        "            nn.Softmax(dim=1),\n",
        "            nn.Conv2d(64, 1, kernel_size=1, padding=0, dilation=1, stride=1, bias=False),\n",
        "            nn.Upsample(scale_factor=4, mode='bilinear')\n",
        "        )\n",
        "        self.colorblock3 = nn.Sequential(\n",
        "            nn.Conv2d(64, 64, kernel_size=3, padding=1),\n",
        "            nn.ReLU(True),\n",
        "            nn.Conv2d(64, 64, kernel_size=3, padding=1),\n",
        "            nn.ReLU(True),\n",
        "            nn.Conv2d(64, 64, kernel_size=3, padding=1),\n",
        "            nn.ReLU(True),\n",
        "            nn.Softmax(dim=1),\n",
        "            nn.Conv2d(64, 1, kernel_size=1, padding=0, dilation=1, stride=1, bias=False),\n",
        "            nn.Upsample(scale_factor=4, mode='bilinear')\n",
        "        )\n",
        "\n",
        "    def forward(self, x):\n",
        "        block1 = self.block1(x)\n",
        "        block2 = self.block2(block1)\n",
        "        block3 = self.block3(block2)\n",
        "        block4 = self.block4(block3)\n",
        "        block5 = self.block5(block4)\n",
        "        block6 = self.block6(block5)\n",
        "        block7 = self.block7(block6)\n",
        "        color1 = self.colorblock1(block7)\n",
        "        color2 = self.colorblock2(block7)\n",
        "        color3 = self.colorblock3(block7)\n",
        "        stacked_color = torch.cat([color1, color2,color3], dim=1)\n",
        "        block8 = self.block8(block7+block1)\n",
        "\n",
        "        return (stacked_color + torch.tanh(block8) +1)/3\n",
        "\n",
        "class Discriminator(nn.Module):\n",
        "    def __init__(self):\n",
        "        super(Discriminator, self).__init__()\n",
        "        self.net = nn.Sequential(\n",
        "            nn.Conv2d(3, 64, kernel_size=3, padding=1),\n",
        "            nn.LeakyReLU(0.2),\n",
        "\n",
        "            nn.Conv2d(64, 64, kernel_size=3, stride=2, padding=1),\n",
        "            nn.BatchNorm2d(64),\n",
        "            nn.LeakyReLU(0.2),\n",
        "\n",
        "            nn.Conv2d(64, 128, kernel_size=3, padding=1),\n",
        "            nn.BatchNorm2d(128),\n",
        "            nn.LeakyReLU(0.2),\n",
        "\n",
        "            nn.Conv2d(128, 128, kernel_size=3, stride=2, padding=1),\n",
        "            nn.BatchNorm2d(128),\n",
        "            nn.LeakyReLU(0.2),\n",
        "\n",
        "            nn.Conv2d(128, 256, kernel_size=3, padding=1),\n",
        "            nn.BatchNorm2d(256),\n",
        "            nn.LeakyReLU(0.2),\n",
        "\n",
        "            nn.Conv2d(256, 256, kernel_size=3, stride=2, padding=1),\n",
        "            nn.BatchNorm2d(256),\n",
        "            nn.LeakyReLU(0.2),\n",
        "\n",
        "            nn.Conv2d(256, 512, kernel_size=3, padding=1),\n",
        "            nn.BatchNorm2d(512),\n",
        "            nn.LeakyReLU(0.2),\n",
        "\n",
        "            nn.Conv2d(512, 512, kernel_size=3, stride=2, padding=1),\n",
        "            nn.BatchNorm2d(512),\n",
        "            nn.LeakyReLU(0.2),\n",
        "\n",
        "            nn.AdaptiveAvgPool2d(1),\n",
        "            nn.Conv2d(512, 1024, kernel_size=1),\n",
        "            nn.LeakyReLU(0.2),\n",
        "            nn.Conv2d(1024, 1, kernel_size=1)\n",
        "        )\n",
        "\n",
        "    def forward(self, x):\n",
        "        #batch_size = x.size(0)\n",
        "        return torch.sigmoid(self.net(x))\n",
        "\n",
        "\n",
        "class ResidualBlock(nn.Module):\n",
        "    def __init__(self, channels):\n",
        "        super(ResidualBlock, self).__init__()\n",
        "        self.conv1 = nn.Conv2d(channels, channels, kernel_size=3, padding=1)\n",
        "        self.bn1 = nn.BatchNorm2d(channels)\n",
        "        self.prelu = nn.PReLU()\n",
        "        self.conv2 = nn.Conv2d(channels, channels, kernel_size=3, padding=1)\n",
        "        self.bn2 = nn.BatchNorm2d(channels)\n",
        "\n",
        "    def forward(self, x):\n",
        "        residual = self.conv1(x)\n",
        "        residual = self.bn1(residual)\n",
        "        residual = self.prelu(residual)\n",
        "        residual = self.conv2(residual)\n",
        "        residual = self.bn2(residual)\n",
        "\n",
        "        return x + residual\n",
        "\n",
        "\n",
        "class UpsampleBLock(nn.Module):\n",
        "    def __init__(self, in_channels, up_scale):\n",
        "        super(UpsampleBLock, self).__init__()\n",
        "        self.conv = nn.Conv2d(in_channels, in_channels * up_scale ** 2, kernel_size=3, padding=1)\n",
        "        self.pixel_shuffle = nn.PixelShuffle(up_scale)\n",
        "        self.prelu = nn.PReLU()\n",
        "\n",
        "    def forward(self, x):\n",
        "        x = self.conv(x)\n",
        "        x = self.pixel_shuffle(x)\n",
        "        x = self.prelu(x)\n",
        "        return x"
      ],
      "metadata": {
        "id": "-sHWOSzSDTyZ"
      },
      "execution_count": null,
      "outputs": []
    },
    {
      "cell_type": "markdown",
      "source": [
        "## GPU 설정"
      ],
      "metadata": {
        "id": "OYWLt48x4P1U"
      }
    },
    {
      "cell_type": "code",
      "source": [
        "device = torch.device('cuda' if torch.cuda.is_available() else 'cpu')\n",
        "\n",
        "netG = Generator(4)\n",
        "netD = Discriminator()\n",
        "\n",
        "Generator_loss = GeneratorLoss()\n",
        "\n",
        "netG.to(device)\n",
        "netD.to(device)\n",
        "Generator_loss.to(device)\n",
        "\n",
        "optimizerG = optim.Adam(netG.parameters())\n",
        "optimizerD = optim.Adam(netD.parameters())"
      ],
      "metadata": {
        "id": "4i2jIQDV4SQg",
        "colab": {
          "base_uri": "https://localhost:8080/"
        },
        "outputId": "c73c0c51-5904-44b5-8f53-9fde81325b2b"
      },
      "execution_count": null,
      "outputs": [
        {
          "output_type": "stream",
          "name": "stderr",
          "text": [
            "/usr/local/lib/python3.10/dist-packages/torchvision/models/_utils.py:208: UserWarning: The parameter 'pretrained' is deprecated since 0.13 and may be removed in the future, please use 'weights' instead.\n",
            "  warnings.warn(\n",
            "/usr/local/lib/python3.10/dist-packages/torchvision/models/_utils.py:223: UserWarning: Arguments other than a weight enum or `None` for 'weights' are deprecated since 0.13 and may be removed in the future. The current behavior is equivalent to passing `weights=VGG16_Weights.IMAGENET1K_V1`. You can also use `weights=VGG16_Weights.DEFAULT` to get the most up-to-date weights.\n",
            "  warnings.warn(msg)\n",
            "Downloading: \"https://download.pytorch.org/models/vgg16-397923af.pth\" to /root/.cache/torch/hub/checkpoints/vgg16-397923af.pth\n",
            "100%|██████████| 528M/528M [00:06<00:00, 82.8MB/s]\n"
          ]
        }
      ]
    },
    {
      "cell_type": "markdown",
      "source": [
        "##Training"
      ],
      "metadata": {
        "id": "NEkHZj0HaOKx"
      }
    },
    {
      "cell_type": "code",
      "source": [
        "print(netG)"
      ],
      "metadata": {
        "colab": {
          "base_uri": "https://localhost:8080/"
        },
        "id": "YNV8XDGzOzEr",
        "outputId": "2e027b54-ffe3-497c-c2f5-f327989e6260"
      },
      "execution_count": null,
      "outputs": [
        {
          "output_type": "stream",
          "name": "stdout",
          "text": [
            "Generator(\n",
            "  (block1): Sequential(\n",
            "    (0): Conv2d(3, 64, kernel_size=(9, 9), stride=(1, 1), padding=(4, 4))\n",
            "    (1): PReLU(num_parameters=1)\n",
            "  )\n",
            "  (block2): ResidualBlock(\n",
            "    (conv1): Conv2d(64, 64, kernel_size=(3, 3), stride=(1, 1), padding=(1, 1))\n",
            "    (bn1): BatchNorm2d(64, eps=1e-05, momentum=0.1, affine=True, track_running_stats=True)\n",
            "    (prelu): PReLU(num_parameters=1)\n",
            "    (conv2): Conv2d(64, 64, kernel_size=(3, 3), stride=(1, 1), padding=(1, 1))\n",
            "    (bn2): BatchNorm2d(64, eps=1e-05, momentum=0.1, affine=True, track_running_stats=True)\n",
            "  )\n",
            "  (block3): ResidualBlock(\n",
            "    (conv1): Conv2d(64, 64, kernel_size=(3, 3), stride=(1, 1), padding=(1, 1))\n",
            "    (bn1): BatchNorm2d(64, eps=1e-05, momentum=0.1, affine=True, track_running_stats=True)\n",
            "    (prelu): PReLU(num_parameters=1)\n",
            "    (conv2): Conv2d(64, 64, kernel_size=(3, 3), stride=(1, 1), padding=(1, 1))\n",
            "    (bn2): BatchNorm2d(64, eps=1e-05, momentum=0.1, affine=True, track_running_stats=True)\n",
            "  )\n",
            "  (block4): ResidualBlock(\n",
            "    (conv1): Conv2d(64, 64, kernel_size=(3, 3), stride=(1, 1), padding=(1, 1))\n",
            "    (bn1): BatchNorm2d(64, eps=1e-05, momentum=0.1, affine=True, track_running_stats=True)\n",
            "    (prelu): PReLU(num_parameters=1)\n",
            "    (conv2): Conv2d(64, 64, kernel_size=(3, 3), stride=(1, 1), padding=(1, 1))\n",
            "    (bn2): BatchNorm2d(64, eps=1e-05, momentum=0.1, affine=True, track_running_stats=True)\n",
            "  )\n",
            "  (block5): ResidualBlock(\n",
            "    (conv1): Conv2d(64, 64, kernel_size=(3, 3), stride=(1, 1), padding=(1, 1))\n",
            "    (bn1): BatchNorm2d(64, eps=1e-05, momentum=0.1, affine=True, track_running_stats=True)\n",
            "    (prelu): PReLU(num_parameters=1)\n",
            "    (conv2): Conv2d(64, 64, kernel_size=(3, 3), stride=(1, 1), padding=(1, 1))\n",
            "    (bn2): BatchNorm2d(64, eps=1e-05, momentum=0.1, affine=True, track_running_stats=True)\n",
            "  )\n",
            "  (block6): ResidualBlock(\n",
            "    (conv1): Conv2d(64, 64, kernel_size=(3, 3), stride=(1, 1), padding=(1, 1))\n",
            "    (bn1): BatchNorm2d(64, eps=1e-05, momentum=0.1, affine=True, track_running_stats=True)\n",
            "    (prelu): PReLU(num_parameters=1)\n",
            "    (conv2): Conv2d(64, 64, kernel_size=(3, 3), stride=(1, 1), padding=(1, 1))\n",
            "    (bn2): BatchNorm2d(64, eps=1e-05, momentum=0.1, affine=True, track_running_stats=True)\n",
            "  )\n",
            "  (block7): Sequential(\n",
            "    (0): Conv2d(64, 64, kernel_size=(3, 3), stride=(1, 1), padding=(1, 1))\n",
            "    (1): BatchNorm2d(64, eps=1e-05, momentum=0.1, affine=True, track_running_stats=True)\n",
            "  )\n",
            "  (block8): Sequential(\n",
            "    (0): UpsampleBLock(\n",
            "      (conv): Conv2d(64, 256, kernel_size=(3, 3), stride=(1, 1), padding=(1, 1))\n",
            "      (pixel_shuffle): PixelShuffle(upscale_factor=2)\n",
            "      (prelu): PReLU(num_parameters=1)\n",
            "    )\n",
            "    (1): UpsampleBLock(\n",
            "      (conv): Conv2d(64, 256, kernel_size=(3, 3), stride=(1, 1), padding=(1, 1))\n",
            "      (pixel_shuffle): PixelShuffle(upscale_factor=2)\n",
            "      (prelu): PReLU(num_parameters=1)\n",
            "    )\n",
            "    (2): Conv2d(64, 3, kernel_size=(9, 9), stride=(1, 1), padding=(4, 4))\n",
            "  )\n",
            "  (colorblock1): Sequential(\n",
            "    (0): Conv2d(64, 64, kernel_size=(3, 3), stride=(1, 1), padding=(1, 1))\n",
            "    (1): ReLU(inplace=True)\n",
            "    (2): Conv2d(64, 64, kernel_size=(3, 3), stride=(1, 1), padding=(1, 1))\n",
            "    (3): ReLU(inplace=True)\n",
            "    (4): Conv2d(64, 64, kernel_size=(3, 3), stride=(1, 1), padding=(1, 1))\n",
            "    (5): ReLU(inplace=True)\n",
            "    (6): Softmax(dim=1)\n",
            "    (7): Conv2d(64, 1, kernel_size=(1, 1), stride=(1, 1), bias=False)\n",
            "    (8): Upsample(scale_factor=4.0, mode='bilinear')\n",
            "  )\n",
            "  (colorblock2): Sequential(\n",
            "    (0): Conv2d(64, 64, kernel_size=(3, 3), stride=(1, 1), padding=(1, 1))\n",
            "    (1): ReLU(inplace=True)\n",
            "    (2): Conv2d(64, 64, kernel_size=(3, 3), stride=(1, 1), padding=(1, 1))\n",
            "    (3): ReLU(inplace=True)\n",
            "    (4): Conv2d(64, 64, kernel_size=(3, 3), stride=(1, 1), padding=(1, 1))\n",
            "    (5): ReLU(inplace=True)\n",
            "    (6): Softmax(dim=1)\n",
            "    (7): Conv2d(64, 1, kernel_size=(1, 1), stride=(1, 1), bias=False)\n",
            "    (8): Upsample(scale_factor=4.0, mode='bilinear')\n",
            "  )\n",
            "  (colorblock3): Sequential(\n",
            "    (0): Conv2d(64, 64, kernel_size=(3, 3), stride=(1, 1), padding=(1, 1))\n",
            "    (1): ReLU(inplace=True)\n",
            "    (2): Conv2d(64, 64, kernel_size=(3, 3), stride=(1, 1), padding=(1, 1))\n",
            "    (3): ReLU(inplace=True)\n",
            "    (4): Conv2d(64, 64, kernel_size=(3, 3), stride=(1, 1), padding=(1, 1))\n",
            "    (5): ReLU(inplace=True)\n",
            "    (6): Softmax(dim=1)\n",
            "    (7): Conv2d(64, 1, kernel_size=(1, 1), stride=(1, 1), bias=False)\n",
            "    (8): Upsample(scale_factor=4.0, mode='bilinear')\n",
            "  )\n",
            ")\n"
          ]
        }
      ]
    },
    {
      "cell_type": "code",
      "source": [
        "checkpoint_D = torch.load(\"/content/23epochs_d.pt\")\n",
        "#checkpoint_G = torch.load(\"/content/23epochs_g.pt\")\n",
        "netD.load_state_dict(checkpoint_D)\n",
        "#netG.load_state_dict(checkpoint_G)"
      ],
      "metadata": {
        "colab": {
          "base_uri": "https://localhost:8080/"
        },
        "id": "Nr31N1M-UKiX",
        "outputId": "d73d4be7-9305-439a-90b2-69422841c3f9"
      },
      "execution_count": null,
      "outputs": [
        {
          "output_type": "execute_result",
          "data": {
            "text/plain": [
              "<All keys matched successfully>"
            ]
          },
          "metadata": {},
          "execution_count": 20
        }
      ]
    },
    {
      "cell_type": "code",
      "source": [
        "from logging import logProcesses\n",
        "\n",
        "for epoch in range(0, epochs + 1):\n",
        "    print(\"Start {} epochs...\".format(epoch))\n",
        "    train_bar = tqdm(train_dataloader)\n",
        "\n",
        "    netG.train()\n",
        "    netD.train()\n",
        "\n",
        "    for lr_img, hr_img in train_bar:\n",
        "\n",
        "      lr_img = lr_img.to(device)\n",
        "      hr_img = hr_img.to(device)\n",
        "\n",
        "      fake_img = netG(lr_img)\n",
        "\n",
        "      netD.zero_grad()\n",
        "      d_loss = netD(hr_img).mean()-1 + netD(fake_img).mean()\n",
        "      d_loss.backward(retain_graph=True)\n",
        "      optimizerD.step()\n",
        "\n",
        "      ############################\n",
        "      # (2) Update G network: minimize 1-D(G(z)) + Perception Loss + Image Loss + TV Loss\n",
        "      ###########################\n",
        "      netG.zero_grad()\n",
        "      ## The two lines below are added to prevent runetime error in Google Colab ##\n",
        "      fake_img = netG(lr_img)\n",
        "      netD_out = netD(fake_img).mean()\n",
        "      ##\n",
        "      g_loss = Generator_loss(netD_out, fake_img, hr_img)\n",
        "      g_loss.backward()\n",
        "\n",
        "      fake_img = netG(lr_img)\n",
        "      netD_out = netD(fake_img).mean()\n",
        "\n",
        "      optimizerG.step()\n",
        "\n",
        "      #epoch당 val datase 검증\n",
        "    '''\n",
        "    netG.eval()\n",
        "    with torch.no_grad():\n",
        "        val_bar = tqdm(val_dataloader)\n",
        "        valing_results = {'mse': 0, 'psnr': 0, 'batch_sizes': 0}\n",
        "        val_images = []\n",
        "        for val_lr, val_bicubic, val_hr in val_bar:\n",
        "            batch_size = val_lr.size(0)\n",
        "            valing_results['batch_sizes'] += batch_size\n",
        "\n",
        "            lr = val_lr.to(device)\n",
        "            hr = val_hr.to(device)\n",
        "            bicubic = val_bicubic.to(device)\n",
        "\n",
        "            sr = netG(lr)\n",
        "\n",
        "            batch_mse = ((sr - hr) ** 2).data.mean()\n",
        "            valing_results['mse'] += batch_mse * batch_size\n",
        "\n",
        "        if valing_results['mse'] == 0:\n",
        "            valing_results['psnr'] = float('inf')\n",
        "        else:\n",
        "            psnr = 10 * log10((hr.max()**2) / (valing_results['mse'] / valing_results['batch_sizes']))\n",
        "            # 만약 psnr 값이 음의 무한대가 될 경우 무한대로 대체\n",
        "            valing_results['psnr'] = psnr if not math.isinf(psnr) else float('inf')\n",
        "\n",
        "\n",
        "            print(\"Val_Score - PSNR: {}\".format(valing_results['psnr']))\n",
        "    '''\n",
        "    # save model parameters\n",
        "    torch.save(netG.state_dict(), save_path + '/' + str(epoch) + 'epochs_g')\n",
        "    torch.save(netD.state_dict(), save_path + '/' + str(epoch) + 'epochs_d')\n",
        "\n",
        "\n"
      ],
      "metadata": {
        "id": "-PT_ItZiaMwD",
        "colab": {
          "base_uri": "https://localhost:8080/"
        },
        "outputId": "08d935a8-ded1-4184-cdaf-2e498dc42224"
      },
      "execution_count": null,
      "outputs": [
        {
          "metadata": {
            "tags": null
          },
          "name": "stdout",
          "output_type": "stream",
          "text": [
            "Start 0 epochs...\n"
          ]
        },
        {
          "metadata": {
            "tags": null
          },
          "name": "stderr",
          "output_type": "stream",
          "text": [
            "100%|██████████| 213/213 [01:55<00:00,  1.85it/s]\n"
          ]
        },
        {
          "metadata": {
            "tags": null
          },
          "name": "stdout",
          "output_type": "stream",
          "text": [
            "Start 1 epochs...\n"
          ]
        },
        {
          "metadata": {
            "tags": null
          },
          "name": "stderr",
          "output_type": "stream",
          "text": [
            "100%|██████████| 213/213 [01:56<00:00,  1.83it/s]\n"
          ]
        },
        {
          "metadata": {
            "tags": null
          },
          "name": "stdout",
          "output_type": "stream",
          "text": [
            "Start 2 epochs...\n"
          ]
        },
        {
          "output_type": "stream",
          "name": "stderr",
          "text": [
            " 79%|███████▉  | 168/213 [01:30<00:23,  1.88it/s]"
          ]
        }
      ]
    },
    {
      "cell_type": "code",
      "source": [
        "from skimage.metrics import structural_similarity as ssim, peak_signal_noise_ratio as psnr\n",
        "from skimage import data, img_as_float\n",
        "\n",
        "count = 0\n",
        "total_g_SSIM = 0\n",
        "total_b_SSIM = 0\n",
        "total_r_SSIM = 0\n",
        "total_SSIM = 0\n",
        "total_psnr = 0\n",
        "\n",
        "model = netG.eval()\n",
        "for f in os.listdir(test_save_dir):\n",
        "  image = Image.open(test_save_dir+'/'+f)\n",
        "  ori_image = image.resize((96*4,96*4), Image.BICUBIC)\n",
        "  image = Grayscale(num_output_channels = 3)( image) #gray\n",
        "  image = image.resize((96,96), Image.BICUBIC)\n",
        "  image = ToTensor()(image).unsqueeze(0).to(device)\n",
        "  sr_img = netG(image)\n",
        "  sr_image = sr_img.squeeze(0).permute(1, 2, 0).mul(255).clamp(0, 255).detach().cpu().numpy().astype(\"uint8\")\n",
        "  sr_sr_img = netG(sr_img)\n",
        "  sr_sr_image = sr_sr_img.squeeze(0).permute(1, 2, 0).mul(255).clamp(0, 255).detach().cpu().numpy().astype(\"uint8\")\n",
        "\n",
        "  ori_fl = img_as_float(ori_image)\n",
        "  sr_fl = img_as_float(sr_image)\n",
        "  (r_score, diff) = ssim(ori_fl[0],sr_fl[0], full=True, channel_axis=1)\n",
        "  (g_score, diff) = ssim(ori_fl[1],sr_fl[1], full=True,channel_axis=1)\n",
        "  (b_score, diff) = ssim(ori_fl[2],sr_fl[2], full=True,channel_axis=1)\n",
        "  (total_score, diff) = ssim(ori_fl,sr_fl, full=True,multichannel=True)\n",
        "  total_psnr += psnr(ori_fl, sr_fl)\n",
        "\n",
        "  total_g_SSIM += g_score\n",
        "  total_r_SSIM += r_score\n",
        "  total_b_SSIM += b_score\n",
        "  total_SSIM += total_score\n",
        "  count+=1\n",
        "  '''\n",
        "  # 6. You can print only the score if you want\n",
        "  print(\"r_SSIM: {}\".format(r_score))\n",
        "  print(\"g_SSIM: {}\".format(g_score))\n",
        "  print(\"b_SSIM: {}\".format(b_score))\n",
        "  print(\"avg_SSIM: {}\".format((total_score)))\n",
        "\n",
        "  fig, axes = plt.subplots(1, 4, figsize=(10, 5))\n",
        "  axes[0].imshow(image.squeeze(0).permute(1, 2, 0).clamp(0, 1).cpu().numpy())\n",
        "  axes[0].set_title('Low-Resolution Input')\n",
        "\n",
        "  axes[1].imshow(sr_image)\n",
        "  axes[1].set_title('Generated High-Resolution')\n",
        "\n",
        "  axes[2].imshow(sr_sr_image)\n",
        "  axes[2].set_title('One more High-Resolution')\n",
        "\n",
        "  axes[3].imshow(ori_image)\n",
        "  axes[3].set_title('Original')\n",
        "  plt.show()\n",
        "  '''\n",
        "\n",
        "print(\"avg_r_SSIM: {}\".format(total_r_SSIM/count))\n",
        "print(\"avg_g_SSIM: {}\".format(total_g_SSIM/count))\n",
        "print(\"avg_b_SSIM: {}\".format(total_b_SSIM/count))\n",
        "print(\"SSIM: {}\".format((total_SSIM/count)))\n",
        "print(\"psnr: {}\".format((total_psnr/count)))"
      ],
      "metadata": {
        "id": "D1FfzIkHOySz"
      },
      "execution_count": null,
      "outputs": []
    },
    {
      "cell_type": "code",
      "source": [
        "import numpy as np\n",
        "#from imgproc import tensor_to_image\n",
        "\n",
        "\n",
        "#def tensor_to_image(tensor: Tensor) -> Any:\n",
        "\n",
        "test_path = '/content/test_dataset'\n",
        "\n",
        "model = netG.eval()\n",
        "#image = Image.open(test_path+'/'+'2007_000061.jpg')\n",
        "image = Image.open('/content/test_dataset/2007_000904.jpg')\n",
        "image = Grayscale(num_output_channels = 3)( image) #gray\n",
        "#print(ToTensor()(image).size())\n",
        "image = image.resize((96,96), Image.BICUBIC)\n",
        "image = ToTensor()(image).unsqueeze(0).to(device)\n",
        "\n",
        "sr_img = netG(image)\n",
        "\n",
        "# 생성된 이미지를 numpy 배열로 변환\n",
        "sr_image = sr_img.squeeze(0).permute(1, 2, 0).mul(255).clamp(0, 255).detach().cpu().numpy().astype(\"uint8\")\n",
        "#sr_image = cv2.cvtColor(sr_image, cv2.COLOR_RGB2BGR)\n",
        "\n",
        "sr_sr_img = netG(sr_img)\n",
        "\n",
        "print(sr_img)\n",
        "\n",
        "sr_sr_image = sr_sr_img.squeeze(0).permute(1, 2, 0).mul(255).clamp(0, 255).detach().cpu().numpy().astype(\"uint8\")\n",
        "\n",
        "fig, axes = plt.subplots(1, 3, figsize=(10, 5))\n",
        "# 두 번째 subplot에 이미지 표시\n",
        "\n",
        "axes[0].imshow(image.squeeze(0).permute(1, 2, 0).clamp(0, 1).cpu().numpy())\n",
        "axes[0].set_title('Low-Resolution Input')\n",
        "\n",
        "axes[1].imshow(sr_image)\n",
        "axes[1].set_title('Generated High-Resolution')\n",
        "\n",
        "axes[2].imshow(sr_sr_image)\n",
        "axes[2].set_title('One more High-Resolution')\n",
        "plt.show()"
      ],
      "metadata": {
        "id": "Fo84d1bZ3QU-"
      },
      "execution_count": null,
      "outputs": []
    },
    {
      "cell_type": "code",
      "source": [
        "'''\n",
        "from torchvision.transforms import ToTensor\n",
        "\n",
        "# 테스트 이미지 경로\n",
        "test_dataset_path = '/content/test_dataset'\n",
        "\n",
        "test_files = [f for f in os.listdir(test_dataset_path) if f.endswith('.jpg')]\n",
        "\n",
        "# 첫 번째 이미지 파일 경로\n",
        "first_test_image_path = os.path.join(test_dataset_path, test_files[0])\n",
        "\n",
        "# 테스트 이미지 불러오기\n",
        "test_image = Image.open(first_test_image_path).convert('RGB')\n",
        "# 이미지 전처리 및 모델 입력으로 변환\n",
        "transform = ToTensor()\n",
        "input_image = transform(test_image).unsqueeze(0)\n",
        "\n",
        "# 모델을 CPU 또는 GPU로 이동 (필요에 따라)\n",
        "device = torch.device('cuda' if torch.cuda.is_available() else 'cpu')\n",
        "srgan_model = netD.to(device)\n",
        "input_image = input_image.to(device)\n",
        "\n",
        "# 모델에 이미지 전달하여 고해상도 이미지 생성\n",
        "with torch.no_grad():\n",
        "    output_image = srgan_model(input_image)\n",
        "\n",
        "# 출력 이미지의 크기 확인\n",
        "print(\"Output Image Shape:\", output_image.shape)\n",
        "\n",
        "# 생성된 이미지를 CPU로 이동하고 텐서에서 이미지로 변환\n",
        "output_image = output_image.cpu().squeeze(0).clamp(0, 1).permute(1, 2, 0).numpy()\n",
        "\n",
        "# 생성된 이미지 및 원본 이미지 시각화\n",
        "fig, axes = plt.subplots(1, 2, figsize=(10, 5))\n",
        "\n",
        "axes[0].imshow(input_image.squeeze(0).permute(1, 2, 0).clamp(0, 1).numpy())\n",
        "axes[0].set_title('Low-Resolution Input')\n",
        "\n",
        "axes[1].imshow(output_image)\n",
        "axes[1].set_title('Generated High-Resolution')\n",
        "\n",
        "plt.show()\n",
        "'''\n"
      ],
      "metadata": {
        "id": "QGjRhFkID4j9"
      },
      "execution_count": null,
      "outputs": []
    }
  ]
}